{
 "cells": [
  {
   "cell_type": "code",
   "execution_count": 12,
   "metadata": {},
   "outputs": [],
   "source": [
    "from collections import Counter, defaultdict\n",
    "from edit import SubwordEdit\n",
    "import json\n",
    "from utils import load_data, write_json, write_tsv, apply_edits"
   ]
  },
  {
   "cell_type": "code",
   "execution_count": 13,
   "metadata": {},
   "outputs": [],
   "source": [
    "def read_edits_tsv(comps_edits_path, nocomprs_edits_path):\n",
    "    examples = []\n",
    "    example = {'subwords': [], 'cmpr_edits': [], 'edits': []}\n",
    "    with open(comps_edits_path) as f1, open(nocomprs_edits_path) as f2:\n",
    "\n",
    "        for cmpr_line, no_cmpr_line in zip(f1.readlines(), f2.readlines()):\n",
    "            cmpr_line = cmpr_line.strip().split('\\t')\n",
    "            no_cmpr_line = no_cmpr_line.strip().split('\\t')\n",
    "\n",
    "            if len(cmpr_line) == 2 and len(no_cmpr_line) == 2:\n",
    "                assert cmpr_line[0] == no_cmpr_line[0]\n",
    "\n",
    "                example['subwords'].append(cmpr_line[0].replace('<s>', ''))\n",
    "                example['cmpr_edits'].append(cmpr_line[1].replace('<s>', ''))\n",
    "                example['edits'].append(no_cmpr_line[1].replace('<s>', ''))\n",
    "            else:\n",
    "                 examples.append(example)\n",
    "                 example = {'subwords': [], 'edits': [], 'cmpr_edits': []}\n",
    "    \n",
    "    return examples"
   ]
  },
  {
   "cell_type": "code",
   "execution_count": 14,
   "metadata": {},
   "outputs": [],
   "source": [
    "def detokenize_sent(sent):\n",
    "    detokenize_sent = []\n",
    "    for subword in sent:\n",
    "        if subword.startswith('##'):\n",
    "            detokenize_sent[-1] = detokenize_sent[-1] + subword.replace('##', '')\n",
    "        else:\n",
    "            detokenize_sent.append(subword)\n",
    "\n",
    "    return ' '.join(detokenize_sent)"
   ]
  },
  {
   "cell_type": "code",
   "execution_count": 15,
   "metadata": {},
   "outputs": [],
   "source": [
    "def edits_intersection(qalb14_edits, zaebuc_edits):\n",
    "    qalb14_edits_nocmprss = Counter([edit.edit for ex in qalb14_edits for edit in ex['subword-edits-append']])\n",
    "    zaebuc_edits_nocmprss = Counter([edit.edit for ex in zaebuc_edits for edit in ex['subword-edits-append']])\n",
    "\n",
    "    edits_to_keep = []\n",
    "    for edit in qalb14_edits_nocmprss:\n",
    "        if edit in zaebuc_edits_nocmprss:\n",
    "            edits_to_keep.append(edit)\n",
    "\n",
    "    return edits_to_keep"
   ]
  },
  {
   "cell_type": "code",
   "execution_count": 28,
   "metadata": {},
   "outputs": [],
   "source": [
    "def adjust_edits(qalb14_edits, edits_to_keep):\n",
    "    adjusted_dataset = []\n",
    "\n",
    "    for ex_num, example in enumerate(qalb14_edits):\n",
    "        # print(ex_num)\n",
    "        src = example['src']\n",
    "        tgt = example['tgt']\n",
    "        subwords = [e.subword for e in example['subword-edits-append']]\n",
    "        edits = [e.edit for e in example['subword-edits-append']]\n",
    "\n",
    "        # Ensure subwords and edits align\n",
    "        assert len(subwords) == len(edits)\n",
    "\n",
    "        rewritten_subwords = []\n",
    "        rewritten_raw_subwords = []\n",
    "        adjusted_edits = []\n",
    "\n",
    "        for i, (subword, edit) in enumerate(zip(subwords, edits)):\n",
    "            if edit in edits_to_keep:\n",
    "                # Retain the subword and edit as is\n",
    "                rewritten_subwords.append(subword)\n",
    "                adjusted_edits.append(edit)\n",
    "                continue\n",
    "\n",
    "            sw_edit = SubwordEdit(subword=subword, raw_subword=subword, edit=edit)\n",
    "            rewritten_subword = sw_edit.apply(subword)\n",
    "\n",
    "            if edit.startswith('M'):\n",
    "                # Handle modifications\n",
    "                if rewritten_subword.startswith('##'):\n",
    "                    raise ValueError(\"Unexpected modification: rewritten_subword starts with '##'\")\n",
    "                \n",
    "                rewritten_parts = rewritten_subword.split()\n",
    "                if len(rewritten_parts) > 1:\n",
    "\n",
    "                    # Merge the first part with the last subword, and add remaining parts\n",
    "                    rewritten_subwords[-1] += rewritten_parts[0]\n",
    "\n",
    "                    if len(set(adjusted_edits[-1])) == 1 and set(adjusted_edits[-1]) == {'K'}:\n",
    "                        adjusted_edits[-1] = 'K' * len(rewritten_subwords[-1].replace('##', ''))\n",
    "                    else:\n",
    "                        adjusted_edits[-1] += 'K' * len(rewritten_parts[0].replace('##', ''))\n",
    "                        \n",
    "                        \n",
    "                    rewritten_subwords.extend(rewritten_parts[1:])\n",
    "\n",
    "                    adjusted_edits.extend(['K'] * (len(rewritten_parts) - 1))\n",
    "\n",
    "                elif rewritten_subword:\n",
    "                    # Simple merge with the last subword\n",
    "                    rewritten_subwords[-1] += rewritten_subword\n",
    "\n",
    "                    if len(set(adjusted_edits[-1])) == 1 and set(adjusted_edits[-1]) == {'K'}:\n",
    "                        adjusted_edits[-1] = 'K' * len(rewritten_subwords[-1].replace('##', ''))\n",
    "                    else:\n",
    "                        if (rewritten_subword.startswith(' ') or rewritten_subword.endswith(' ')):\n",
    "                            adjusted_edits[-1] += 'K' * len(rewritten_subword.replace('##', ''))\n",
    "                        else:\n",
    "                            adjusted_edits[-1] += 'K' * len(rewritten_parts[0].replace('##', ''))\n",
    "    \n",
    "            else:\n",
    "                rewritten_subwords.append(rewritten_subword)\n",
    "                adjusted_edits.append('K')\n",
    "\n",
    "\n",
    "        assert len(rewritten_subwords) == len(adjusted_edits)\n",
    "\n",
    "        src = detokenize_sent(rewritten_subwords)\n",
    "        if src == tgt:\n",
    "            continue\n",
    "\n",
    "        check = [SubwordEdit(subword, subword, edit) for subword, edit in zip(rewritten_subwords, adjusted_edits)]\n",
    "\n",
    "        rewritten_src = apply_edits(rewritten_subwords, check)\n",
    "        \n",
    "        if ' '.join(rewritten_src) != example['tgt']:\n",
    "            import pdb; pdb.set_trace()\n",
    "\n",
    "        # Append the adjusted example to the dataset\n",
    "        adjusted_dataset.append({\n",
    "            'src': detokenize_sent(rewritten_subwords),\n",
    "            'tgt': tgt,\n",
    "            'subword-edits-append': [SubwordEdit(subword, subword, edit) for subword, edit in zip(rewritten_subwords, adjusted_edits)]\n",
    "        })\n",
    "\n",
    "    return adjusted_dataset"
   ]
  },
  {
   "cell_type": "code",
   "execution_count": 29,
   "metadata": {},
   "outputs": [],
   "source": [
    "qalb14 = load_data('/scratch/ba63/arabic-text-editing/edits/gec/qalb14/edits_no_compressed/qalb14-arabertv02/subword-level/train_edits.json',\n",
    "                   edits_granularity='subword')\n",
    "zaebuc = load_data('/scratch/ba63/arabic-text-editing/edits/gec/zaebuc/edits_no_compressed/zaebuc-arabertv02/subword-level/train_edits.json',\n",
    "                   edits_granularity='subword')"
   ]
  },
  {
   "cell_type": "code",
   "execution_count": 30,
   "metadata": {},
   "outputs": [],
   "source": [
    "edits_to_keep = edits_intersection(qalb14, zaebuc)"
   ]
  },
  {
   "cell_type": "code",
   "execution_count": 31,
   "metadata": {},
   "outputs": [],
   "source": [
    "qalb14_adjusted = adjust_edits(qalb14, edits_to_keep)"
   ]
  },
  {
   "cell_type": "code",
   "execution_count": 36,
   "metadata": {},
   "outputs": [],
   "source": [
    "write_tsv(path='/scratch/ba63/arabic-text-editing/edits/gec/qalb14_adj+zaebuc_x10/edits_no_compressed/qalb14_adj+zaebuc_x10-arabertv02/subword-level/train',\n",
    "          data=qalb14_adjusted + zaebuc * 10,\n",
    "          edits_granularity='subword')"
   ]
  },
  {
   "cell_type": "code",
   "execution_count": 37,
   "metadata": {},
   "outputs": [],
   "source": [
    "write_json(path='/scratch/ba63/arabic-text-editing/edits/gec/qalb14_adj+zaebuc_x10/edits_no_compressed/qalb14_adj+zaebuc_x10-arabertv02/subword-level/train_edits.json',\n",
    "          data=qalb14_adjusted + zaebuc * 10,\n",
    "          edits_granularity='subword')"
   ]
  },
  {
   "cell_type": "code",
   "execution_count": 214,
   "metadata": {},
   "outputs": [],
   "source": [
    "# adjusted_edits = [edit for ex in qalb14_adjusted for edit in ex['edits']]"
   ]
  },
  {
   "cell_type": "code",
   "execution_count": 150,
   "metadata": {},
   "outputs": [],
   "source": [
    "# Counter(adjusted_edits)"
   ]
  },
  {
   "cell_type": "code",
   "execution_count": null,
   "metadata": {},
   "outputs": [],
   "source": []
  }
 ],
 "metadata": {
  "kernelspec": {
   "display_name": "simplification",
   "language": "python",
   "name": "python3"
  },
  "language_info": {
   "codemirror_mode": {
    "name": "ipython",
    "version": 3
   },
   "file_extension": ".py",
   "mimetype": "text/x-python",
   "name": "python",
   "nbconvert_exporter": "python",
   "pygments_lexer": "ipython3",
   "version": "3.10.13"
  }
 },
 "nbformat": 4,
 "nbformat_minor": 2
}
