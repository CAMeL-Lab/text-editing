{
 "cells": [
  {
   "cell_type": "code",
   "execution_count": 2,
   "metadata": {},
   "outputs": [],
   "source": [
    "from utils import load_data\n",
    "from collections import defaultdict, Counter"
   ]
  },
  {
   "cell_type": "code",
   "execution_count": 39,
   "metadata": {},
   "outputs": [],
   "source": [
    "def oov_rate(train_data, test_data):\n",
    "    train_edits = Counter()\n",
    "    test_edits = Counter()\n",
    "\n",
    "    for example in train_data:\n",
    "        for subword_edit in example['subword-edits-append']:\n",
    "            train_edits[subword_edit.edit] += 1\n",
    "    \n",
    "    for example in test_data:\n",
    "        for subword_edit in example['subword-edits-append']:\n",
    "            test_edits[subword_edit.edit] += 1\n",
    "    \n",
    "    type_oov_rate = 0\n",
    "    oov_mass = 0\n",
    "    coverage = 0\n",
    "\n",
    "    for edit in test_edits:\n",
    "        if edit not in train_edits:\n",
    "            type_oov_rate += 1\n",
    "            oov_mass += test_edits[edit]\n",
    "\n",
    "        elif edit != 'K*':\n",
    "            coverage += test_edits[edit]\n",
    "        \n",
    "    \n",
    "    type_oov_rate = (type_oov_rate / len(test_edits)) * 100\n",
    "    oov_mass = (oov_mass / (sum(test_edits.values()) - test_edits['K*'])) * 100 \n",
    "    coverage = (coverage / (sum(test_edits.values()) - test_edits['K*'])) * 100\n",
    "\n",
    "\n",
    "    print(f'Type OOV Rate:        {type_oov_rate:.2f}%')\n",
    "    print(f'OOV Mass w/o K*:      {oov_mass:.2f}%')\n",
    "    print(f'Edit Coverage w/o K*: {coverage:.2f}%')"
   ]
  },
  {
   "cell_type": "code",
   "execution_count": 46,
   "metadata": {},
   "outputs": [],
   "source": [
    "dev_data = load_data('edits_outputs_compressed/qalb14/dev_edits.json')"
   ]
  },
  {
   "cell_type": "code",
   "execution_count": null,
   "metadata": {},
   "outputs": [],
   "source": []
  },
  {
   "cell_type": "code",
   "execution_count": 50,
   "metadata": {},
   "outputs": [
    {
     "name": "stdout",
     "output_type": "stream",
     "text": [
      "qalb14:\n",
      "Type OOV Rate:        26.54%\n",
      "OOV Mass w/o K*:      2.03%\n",
      "Edit Coverage w/o K*: 97.97%\n",
      "\n",
      "qalb14_5:\n",
      "Type OOV Rate:        28.98%\n",
      "OOV Mass w/o K*:      7.52%\n",
      "Edit Coverage w/o K*: 92.48%\n",
      "\n",
      "qalb14_4:\n",
      "Type OOV Rate:        31.53%\n",
      "OOV Mass w/o K*:      8.54%\n",
      "Edit Coverage w/o K*: 91.46%\n",
      "\n",
      "qalb14_3:\n",
      "Type OOV Rate:        35.24%\n",
      "OOV Mass w/o K*:      11.58%\n",
      "Edit Coverage w/o K*: 88.42%\n",
      "\n"
     ]
    }
   ],
   "source": [
    "for output_dir in ['qalb14', 'qalb14_5', 'qalb14_4', 'qalb14_3']:\n",
    "    train_data = load_data(f'edits_outputs_compressed/{output_dir}/train_edits.json')\n",
    "    print(f'{output_dir}:')\n",
    "    oov_rate(train_data, dev_data)\n",
    "    print()"
   ]
  },
  {
   "cell_type": "code",
   "execution_count": 53,
   "metadata": {},
   "outputs": [
    {
     "name": "stdout",
     "output_type": "stream",
     "text": [
      "qalb14:\n",
      "Type OOV Rate:        51.38%\n",
      "OOV Mass w/o K*:      5.45%\n",
      "Edit Coverage w/o K*: 94.55%\n",
      "\n",
      "qalb14_5:\n",
      "Type OOV Rate:        52.55%\n",
      "OOV Mass w/o K*:      9.06%\n",
      "Edit Coverage w/o K*: 90.94%\n",
      "\n",
      "qalb14_4:\n",
      "Type OOV Rate:        54.25%\n",
      "OOV Mass w/o K*:      10.10%\n",
      "Edit Coverage w/o K*: 89.90%\n",
      "\n",
      "qalb14_3:\n",
      "Type OOV Rate:        57.22%\n",
      "OOV Mass w/o K*:      13.12%\n",
      "Edit Coverage w/o K*: 86.88%\n",
      "\n"
     ]
    }
   ],
   "source": [
    "for output_dir in ['qalb14', 'qalb14_5', 'qalb14_4', 'qalb14_3']:\n",
    "    train_data = load_data(f'edits_outputs_compressed_prune_10/{output_dir}/train_edits.json')\n",
    "    print(f'{output_dir}:')\n",
    "    oov_rate(train_data, dev_data)\n",
    "    print()"
   ]
  },
  {
   "cell_type": "code",
   "execution_count": 54,
   "metadata": {},
   "outputs": [
    {
     "name": "stdout",
     "output_type": "stream",
     "text": [
      "qalb14:\n",
      "Type OOV Rate:        61.68%\n",
      "OOV Mass w/o K*:      6.47%\n",
      "Edit Coverage w/o K*: 93.53%\n",
      "\n",
      "qalb14_5:\n",
      "Type OOV Rate:        62.95%\n",
      "OOV Mass w/o K*:      10.14%\n",
      "Edit Coverage w/o K*: 89.86%\n",
      "\n",
      "qalb14_4:\n",
      "Type OOV Rate:        64.54%\n",
      "OOV Mass w/o K*:      11.14%\n",
      "Edit Coverage w/o K*: 88.86%\n",
      "\n",
      "qalb14_3:\n",
      "Type OOV Rate:        66.14%\n",
      "OOV Mass w/o K*:      14.05%\n",
      "Edit Coverage w/o K*: 85.95%\n",
      "\n"
     ]
    }
   ],
   "source": [
    "for output_dir in ['qalb14', 'qalb14_5', 'qalb14_4', 'qalb14_3']:\n",
    "    train_data = load_data(f'edits_outputs_compressed_prune_20/{output_dir}/train_edits.json')\n",
    "    print(f'{output_dir}:')\n",
    "    oov_rate(train_data, dev_data)\n",
    "    print()"
   ]
  },
  {
   "cell_type": "code",
   "execution_count": null,
   "metadata": {},
   "outputs": [],
   "source": []
  },
  {
   "cell_type": "code",
   "execution_count": 55,
   "metadata": {},
   "outputs": [],
   "source": [
    "dev_data_nopnx = load_data('edits_outputs_compressed_pnx_sep/qalb14/dev_edits_nopnx.json')\n",
    "dev_data_pnx = load_data('edits_outputs_compressed_pnx_sep/qalb14/dev_edits_pnx.json')\n"
   ]
  },
  {
   "cell_type": "code",
   "execution_count": 57,
   "metadata": {},
   "outputs": [
    {
     "name": "stdout",
     "output_type": "stream",
     "text": [
      "qalb14:\n",
      "No Pnx:\n",
      "Type OOV Rate:        26.74%\n",
      "OOV Mass w/o K*:      2.39%\n",
      "Edit Coverage w/o K*: 97.61%\n",
      "PNX:\n",
      "Type OOV Rate:        10.87%\n",
      "OOV Mass w/o K*:      0.08%\n",
      "Edit Coverage w/o K*: 99.92%\n",
      "\n",
      "qalb14_5:\n",
      "No Pnx:\n",
      "Type OOV Rate:        29.16%\n",
      "OOV Mass w/o K*:      10.67%\n",
      "Edit Coverage w/o K*: 89.33%\n",
      "PNX:\n",
      "Type OOV Rate:        8.70%\n",
      "OOV Mass w/o K*:      0.06%\n",
      "Edit Coverage w/o K*: 99.94%\n",
      "\n",
      "qalb14_4:\n",
      "No Pnx:\n",
      "Type OOV Rate:        31.01%\n",
      "OOV Mass w/o K*:      12.11%\n",
      "Edit Coverage w/o K*: 87.89%\n",
      "PNX:\n",
      "Type OOV Rate:        8.70%\n",
      "OOV Mass w/o K*:      0.06%\n",
      "Edit Coverage w/o K*: 99.94%\n",
      "\n"
     ]
    }
   ],
   "source": [
    "for output_dir in ['qalb14', 'qalb14_5', 'qalb14_4', 'qalb14_3']:\n",
    "    train_data_nopnx = load_data(f'edits_outputs_compressed_pnx_sep/{output_dir}/train_edits_nopnx.json')\n",
    "    train_data_pnx = load_data(f'edits_outputs_compressed_pnx_sep/{output_dir}/train_edits_pnx.json')\n",
    "    print(f'{output_dir}:')\n",
    "    print('No Pnx:')\n",
    "    oov_rate(train_data_nopnx, dev_data_nopnx)\n",
    "    print('PNX:')\n",
    "    oov_rate(train_data_pnx, dev_data_pnx)\n",
    "    print()\n",
    "\n"
   ]
  },
  {
   "cell_type": "code",
   "execution_count": null,
   "metadata": {},
   "outputs": [],
   "source": [
    "for output_dir in ['qalb14', 'qalb14_5', 'qalb14_4', 'qalb14_3']:\n",
    "    train_data_nopnx = load_data(f'edits_outputs_compressed_pnx_sep_10/{output_dir}/train_edits_nopnx.json')\n",
    "    train_data_pnx = load_data(f'edits_outputs_compressed_pnx_sep_10/{output_dir}/train_edits_pnx.json')\n",
    "    print(f'{output_dir}:')\n",
    "    print('No Pnx:')\n",
    "    oov_rate(train_data_nopnx, dev_data_nopnx)\n",
    "    print('PNX:')\n",
    "    oov_rate(train_data_pnx, dev_data_pnx)\n",
    "    print()"
   ]
  },
  {
   "cell_type": "code",
   "execution_count": null,
   "metadata": {},
   "outputs": [],
   "source": [
    "for output_dir in ['qalb14', 'qalb14_5', 'qalb14_4', 'qalb14_3']:\n",
    "    train_data_nopnx = load_data(f'edits_outputs_compressed_pnx_sep_20/{output_dir}/train_edits_nopnx.json')\n",
    "    train_data_pnx = load_data(f'edits_outputs_compressed_pnx_sep_20/{output_dir}/train_edits_pnx.json')\n",
    "    print(f'{output_dir}:')\n",
    "    print('No Pnx:')\n",
    "    oov_rate(train_data_nopnx, dev_data_nopnx)\n",
    "    print('PNX:')\n",
    "    oov_rate(train_data_pnx, dev_data_pnx)\n",
    "    print()"
   ]
  },
  {
   "cell_type": "code",
   "execution_count": null,
   "metadata": {},
   "outputs": [],
   "source": []
  }
 ],
 "metadata": {
  "kernelspec": {
   "display_name": "base",
   "language": "python",
   "name": "python3"
  },
  "language_info": {
   "codemirror_mode": {
    "name": "ipython",
    "version": 3
   },
   "file_extension": ".py",
   "mimetype": "text/x-python",
   "name": "python",
   "nbconvert_exporter": "python",
   "pygments_lexer": "ipython3",
   "version": "3.11.9"
  }
 },
 "nbformat": 4,
 "nbformat_minor": 2
}
